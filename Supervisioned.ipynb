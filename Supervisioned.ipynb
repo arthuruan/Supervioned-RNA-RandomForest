{
  "nbformat": 4,
  "nbformat_minor": 0,
  "metadata": {
    "colab": {
      "name": "Supervisioned.ipynb",
      "provenance": []
    },
    "kernelspec": {
      "name": "python3",
      "display_name": "Python 3"
    }
  },
  "cells": [
    {
      "cell_type": "markdown",
      "metadata": {
        "id": "SZoSUtMmUY1d"
      },
      "source": [
        "# Supervizionado - Perceptron de multicamadas e Random Forest"
      ]
    },
    {
      "cell_type": "code",
      "metadata": {
        "id": "zH3xFxCgUAwM"
      },
      "source": [
        "import pandas as pd\r\n",
        "import numpy as np\r\n",
        "from sklearn.preprocessing import LabelEncoder\r\n",
        "import matplotlib.pyplot as plt\r\n",
        "import seaborn as sn\r\n",
        "from sklearn.model_selection import train_test_split\r\n",
        "import keras \r\n",
        "from keras.models import Sequential\r\n",
        "from keras.layers import Dense\r\n",
        "from sklearn.metrics import confusion_matrix, plot_confusion_matrix, accuracy_score\r\n",
        "import numpy as np\r\n",
        "import seaborn as sn\r\n",
        "import matplotlib.pyplot as plt\r\n",
        "from sklearn.ensemble import RandomForestClassifier"
      ],
      "execution_count": 450,
      "outputs": []
    },
    {
      "cell_type": "markdown",
      "metadata": {
        "id": "hlmxF_gETtCv"
      },
      "source": [
        "# Inicializando base\r\n",
        "\r\n",
        "A base foi inicializada a partir do link do repósitorio hospedado no github que este relatório se encontra."
      ]
    },
    {
      "cell_type": "code",
      "metadata": {
        "id": "l_wZfwBpyeip",
        "colab": {
          "base_uri": "https://localhost:8080/",
          "height": 419
        },
        "outputId": "21dd99a1-e71d-4fd5-dea8-1278566e6017"
      },
      "source": [
        "dataset = pd.read_csv(\"https://raw.githubusercontent.com/arthuruan/Supervisioned-RNA-RandomForest/master/hcvdata.csv\", sep = ',')\r\n",
        "\r\n",
        "dataset"
      ],
      "execution_count": 451,
      "outputs": [
        {
          "output_type": "execute_result",
          "data": {
            "text/html": [
              "<div>\n",
              "<style scoped>\n",
              "    .dataframe tbody tr th:only-of-type {\n",
              "        vertical-align: middle;\n",
              "    }\n",
              "\n",
              "    .dataframe tbody tr th {\n",
              "        vertical-align: top;\n",
              "    }\n",
              "\n",
              "    .dataframe thead th {\n",
              "        text-align: right;\n",
              "    }\n",
              "</style>\n",
              "<table border=\"1\" class=\"dataframe\">\n",
              "  <thead>\n",
              "    <tr style=\"text-align: right;\">\n",
              "      <th></th>\n",
              "      <th>Unnamed: 0</th>\n",
              "      <th>Category</th>\n",
              "      <th>Age</th>\n",
              "      <th>Sex</th>\n",
              "      <th>ALB</th>\n",
              "      <th>ALP</th>\n",
              "      <th>ALT</th>\n",
              "      <th>AST</th>\n",
              "      <th>BIL</th>\n",
              "      <th>CHE</th>\n",
              "      <th>CHOL</th>\n",
              "      <th>CREA</th>\n",
              "      <th>GGT</th>\n",
              "      <th>PROT</th>\n",
              "    </tr>\n",
              "  </thead>\n",
              "  <tbody>\n",
              "    <tr>\n",
              "      <th>0</th>\n",
              "      <td>1</td>\n",
              "      <td>0=Blood Donor</td>\n",
              "      <td>32</td>\n",
              "      <td>m</td>\n",
              "      <td>38.5</td>\n",
              "      <td>52.5</td>\n",
              "      <td>7.7</td>\n",
              "      <td>22.1</td>\n",
              "      <td>7.5</td>\n",
              "      <td>6.93</td>\n",
              "      <td>3.23</td>\n",
              "      <td>106.0</td>\n",
              "      <td>12.1</td>\n",
              "      <td>69.0</td>\n",
              "    </tr>\n",
              "    <tr>\n",
              "      <th>1</th>\n",
              "      <td>2</td>\n",
              "      <td>0=Blood Donor</td>\n",
              "      <td>32</td>\n",
              "      <td>m</td>\n",
              "      <td>38.5</td>\n",
              "      <td>70.3</td>\n",
              "      <td>18.0</td>\n",
              "      <td>24.7</td>\n",
              "      <td>3.9</td>\n",
              "      <td>11.17</td>\n",
              "      <td>4.80</td>\n",
              "      <td>74.0</td>\n",
              "      <td>15.6</td>\n",
              "      <td>76.5</td>\n",
              "    </tr>\n",
              "    <tr>\n",
              "      <th>2</th>\n",
              "      <td>3</td>\n",
              "      <td>0=Blood Donor</td>\n",
              "      <td>32</td>\n",
              "      <td>m</td>\n",
              "      <td>46.9</td>\n",
              "      <td>74.7</td>\n",
              "      <td>36.2</td>\n",
              "      <td>52.6</td>\n",
              "      <td>6.1</td>\n",
              "      <td>8.84</td>\n",
              "      <td>5.20</td>\n",
              "      <td>86.0</td>\n",
              "      <td>33.2</td>\n",
              "      <td>79.3</td>\n",
              "    </tr>\n",
              "    <tr>\n",
              "      <th>3</th>\n",
              "      <td>4</td>\n",
              "      <td>0=Blood Donor</td>\n",
              "      <td>32</td>\n",
              "      <td>m</td>\n",
              "      <td>43.2</td>\n",
              "      <td>52.0</td>\n",
              "      <td>30.6</td>\n",
              "      <td>22.6</td>\n",
              "      <td>18.9</td>\n",
              "      <td>7.33</td>\n",
              "      <td>4.74</td>\n",
              "      <td>80.0</td>\n",
              "      <td>33.8</td>\n",
              "      <td>75.7</td>\n",
              "    </tr>\n",
              "    <tr>\n",
              "      <th>4</th>\n",
              "      <td>5</td>\n",
              "      <td>0=Blood Donor</td>\n",
              "      <td>32</td>\n",
              "      <td>m</td>\n",
              "      <td>39.2</td>\n",
              "      <td>74.1</td>\n",
              "      <td>32.6</td>\n",
              "      <td>24.8</td>\n",
              "      <td>9.6</td>\n",
              "      <td>9.15</td>\n",
              "      <td>4.32</td>\n",
              "      <td>76.0</td>\n",
              "      <td>29.9</td>\n",
              "      <td>68.7</td>\n",
              "    </tr>\n",
              "    <tr>\n",
              "      <th>...</th>\n",
              "      <td>...</td>\n",
              "      <td>...</td>\n",
              "      <td>...</td>\n",
              "      <td>...</td>\n",
              "      <td>...</td>\n",
              "      <td>...</td>\n",
              "      <td>...</td>\n",
              "      <td>...</td>\n",
              "      <td>...</td>\n",
              "      <td>...</td>\n",
              "      <td>...</td>\n",
              "      <td>...</td>\n",
              "      <td>...</td>\n",
              "      <td>...</td>\n",
              "    </tr>\n",
              "    <tr>\n",
              "      <th>610</th>\n",
              "      <td>611</td>\n",
              "      <td>3=Cirrhosis</td>\n",
              "      <td>62</td>\n",
              "      <td>f</td>\n",
              "      <td>32.0</td>\n",
              "      <td>416.6</td>\n",
              "      <td>5.9</td>\n",
              "      <td>110.3</td>\n",
              "      <td>50.0</td>\n",
              "      <td>5.57</td>\n",
              "      <td>6.30</td>\n",
              "      <td>55.7</td>\n",
              "      <td>650.9</td>\n",
              "      <td>68.5</td>\n",
              "    </tr>\n",
              "    <tr>\n",
              "      <th>611</th>\n",
              "      <td>612</td>\n",
              "      <td>3=Cirrhosis</td>\n",
              "      <td>64</td>\n",
              "      <td>f</td>\n",
              "      <td>24.0</td>\n",
              "      <td>102.8</td>\n",
              "      <td>2.9</td>\n",
              "      <td>44.4</td>\n",
              "      <td>20.0</td>\n",
              "      <td>1.54</td>\n",
              "      <td>3.02</td>\n",
              "      <td>63.0</td>\n",
              "      <td>35.9</td>\n",
              "      <td>71.3</td>\n",
              "    </tr>\n",
              "    <tr>\n",
              "      <th>612</th>\n",
              "      <td>613</td>\n",
              "      <td>3=Cirrhosis</td>\n",
              "      <td>64</td>\n",
              "      <td>f</td>\n",
              "      <td>29.0</td>\n",
              "      <td>87.3</td>\n",
              "      <td>3.5</td>\n",
              "      <td>99.0</td>\n",
              "      <td>48.0</td>\n",
              "      <td>1.66</td>\n",
              "      <td>3.63</td>\n",
              "      <td>66.7</td>\n",
              "      <td>64.2</td>\n",
              "      <td>82.0</td>\n",
              "    </tr>\n",
              "    <tr>\n",
              "      <th>613</th>\n",
              "      <td>614</td>\n",
              "      <td>3=Cirrhosis</td>\n",
              "      <td>46</td>\n",
              "      <td>f</td>\n",
              "      <td>33.0</td>\n",
              "      <td>NaN</td>\n",
              "      <td>39.0</td>\n",
              "      <td>62.0</td>\n",
              "      <td>20.0</td>\n",
              "      <td>3.56</td>\n",
              "      <td>4.20</td>\n",
              "      <td>52.0</td>\n",
              "      <td>50.0</td>\n",
              "      <td>71.0</td>\n",
              "    </tr>\n",
              "    <tr>\n",
              "      <th>614</th>\n",
              "      <td>615</td>\n",
              "      <td>3=Cirrhosis</td>\n",
              "      <td>59</td>\n",
              "      <td>f</td>\n",
              "      <td>36.0</td>\n",
              "      <td>NaN</td>\n",
              "      <td>100.0</td>\n",
              "      <td>80.0</td>\n",
              "      <td>12.0</td>\n",
              "      <td>9.07</td>\n",
              "      <td>5.30</td>\n",
              "      <td>67.0</td>\n",
              "      <td>34.0</td>\n",
              "      <td>68.0</td>\n",
              "    </tr>\n",
              "  </tbody>\n",
              "</table>\n",
              "<p>615 rows × 14 columns</p>\n",
              "</div>"
            ],
            "text/plain": [
              "     Unnamed: 0       Category  Age Sex   ALB  ...    CHE  CHOL   CREA    GGT  PROT\n",
              "0             1  0=Blood Donor   32   m  38.5  ...   6.93  3.23  106.0   12.1  69.0\n",
              "1             2  0=Blood Donor   32   m  38.5  ...  11.17  4.80   74.0   15.6  76.5\n",
              "2             3  0=Blood Donor   32   m  46.9  ...   8.84  5.20   86.0   33.2  79.3\n",
              "3             4  0=Blood Donor   32   m  43.2  ...   7.33  4.74   80.0   33.8  75.7\n",
              "4             5  0=Blood Donor   32   m  39.2  ...   9.15  4.32   76.0   29.9  68.7\n",
              "..          ...            ...  ...  ..   ...  ...    ...   ...    ...    ...   ...\n",
              "610         611    3=Cirrhosis   62   f  32.0  ...   5.57  6.30   55.7  650.9  68.5\n",
              "611         612    3=Cirrhosis   64   f  24.0  ...   1.54  3.02   63.0   35.9  71.3\n",
              "612         613    3=Cirrhosis   64   f  29.0  ...   1.66  3.63   66.7   64.2  82.0\n",
              "613         614    3=Cirrhosis   46   f  33.0  ...   3.56  4.20   52.0   50.0  71.0\n",
              "614         615    3=Cirrhosis   59   f  36.0  ...   9.07  5.30   67.0   34.0  68.0\n",
              "\n",
              "[615 rows x 14 columns]"
            ]
          },
          "metadata": {
            "tags": []
          },
          "execution_count": 451
        }
      ]
    },
    {
      "cell_type": "markdown",
      "metadata": {
        "id": "Z78tS4q1UOxx"
      },
      "source": [
        "## Pré-processamento\r\n",
        "\r\n",
        "Primeiramente iremos fazer o pré-processamento dos data, para obtermos consequentemente melhores resultados."
      ]
    },
    {
      "cell_type": "markdown",
      "metadata": {
        "id": "fNIZXx7gWJjw"
      },
      "source": [
        "### Descartando colunas\r\n",
        "\r\n",
        "Ao analisar a tabela acima podemos encontrar o atributo da primeira coluna, na qual possui os Ids que não irá ter grande valor para apredizagem do algorítimo, então iremos descarta-la."
      ]
    },
    {
      "cell_type": "code",
      "metadata": {
        "colab": {
          "base_uri": "https://localhost:8080/",
          "height": 204
        },
        "id": "gfblBuqGV1Ha",
        "outputId": "bdccbbab-c744-42d7-d362-522ef65849f0"
      },
      "source": [
        "dataset = dataset.drop(['Unnamed: 0'], axis=1)\r\n",
        "\r\n",
        "dataset.head()"
      ],
      "execution_count": 452,
      "outputs": [
        {
          "output_type": "execute_result",
          "data": {
            "text/html": [
              "<div>\n",
              "<style scoped>\n",
              "    .dataframe tbody tr th:only-of-type {\n",
              "        vertical-align: middle;\n",
              "    }\n",
              "\n",
              "    .dataframe tbody tr th {\n",
              "        vertical-align: top;\n",
              "    }\n",
              "\n",
              "    .dataframe thead th {\n",
              "        text-align: right;\n",
              "    }\n",
              "</style>\n",
              "<table border=\"1\" class=\"dataframe\">\n",
              "  <thead>\n",
              "    <tr style=\"text-align: right;\">\n",
              "      <th></th>\n",
              "      <th>Category</th>\n",
              "      <th>Age</th>\n",
              "      <th>Sex</th>\n",
              "      <th>ALB</th>\n",
              "      <th>ALP</th>\n",
              "      <th>ALT</th>\n",
              "      <th>AST</th>\n",
              "      <th>BIL</th>\n",
              "      <th>CHE</th>\n",
              "      <th>CHOL</th>\n",
              "      <th>CREA</th>\n",
              "      <th>GGT</th>\n",
              "      <th>PROT</th>\n",
              "    </tr>\n",
              "  </thead>\n",
              "  <tbody>\n",
              "    <tr>\n",
              "      <th>0</th>\n",
              "      <td>0=Blood Donor</td>\n",
              "      <td>32</td>\n",
              "      <td>m</td>\n",
              "      <td>38.5</td>\n",
              "      <td>52.5</td>\n",
              "      <td>7.7</td>\n",
              "      <td>22.1</td>\n",
              "      <td>7.5</td>\n",
              "      <td>6.93</td>\n",
              "      <td>3.23</td>\n",
              "      <td>106.0</td>\n",
              "      <td>12.1</td>\n",
              "      <td>69.0</td>\n",
              "    </tr>\n",
              "    <tr>\n",
              "      <th>1</th>\n",
              "      <td>0=Blood Donor</td>\n",
              "      <td>32</td>\n",
              "      <td>m</td>\n",
              "      <td>38.5</td>\n",
              "      <td>70.3</td>\n",
              "      <td>18.0</td>\n",
              "      <td>24.7</td>\n",
              "      <td>3.9</td>\n",
              "      <td>11.17</td>\n",
              "      <td>4.80</td>\n",
              "      <td>74.0</td>\n",
              "      <td>15.6</td>\n",
              "      <td>76.5</td>\n",
              "    </tr>\n",
              "    <tr>\n",
              "      <th>2</th>\n",
              "      <td>0=Blood Donor</td>\n",
              "      <td>32</td>\n",
              "      <td>m</td>\n",
              "      <td>46.9</td>\n",
              "      <td>74.7</td>\n",
              "      <td>36.2</td>\n",
              "      <td>52.6</td>\n",
              "      <td>6.1</td>\n",
              "      <td>8.84</td>\n",
              "      <td>5.20</td>\n",
              "      <td>86.0</td>\n",
              "      <td>33.2</td>\n",
              "      <td>79.3</td>\n",
              "    </tr>\n",
              "    <tr>\n",
              "      <th>3</th>\n",
              "      <td>0=Blood Donor</td>\n",
              "      <td>32</td>\n",
              "      <td>m</td>\n",
              "      <td>43.2</td>\n",
              "      <td>52.0</td>\n",
              "      <td>30.6</td>\n",
              "      <td>22.6</td>\n",
              "      <td>18.9</td>\n",
              "      <td>7.33</td>\n",
              "      <td>4.74</td>\n",
              "      <td>80.0</td>\n",
              "      <td>33.8</td>\n",
              "      <td>75.7</td>\n",
              "    </tr>\n",
              "    <tr>\n",
              "      <th>4</th>\n",
              "      <td>0=Blood Donor</td>\n",
              "      <td>32</td>\n",
              "      <td>m</td>\n",
              "      <td>39.2</td>\n",
              "      <td>74.1</td>\n",
              "      <td>32.6</td>\n",
              "      <td>24.8</td>\n",
              "      <td>9.6</td>\n",
              "      <td>9.15</td>\n",
              "      <td>4.32</td>\n",
              "      <td>76.0</td>\n",
              "      <td>29.9</td>\n",
              "      <td>68.7</td>\n",
              "    </tr>\n",
              "  </tbody>\n",
              "</table>\n",
              "</div>"
            ],
            "text/plain": [
              "        Category  Age Sex   ALB   ALP  ...    CHE  CHOL   CREA   GGT  PROT\n",
              "0  0=Blood Donor   32   m  38.5  52.5  ...   6.93  3.23  106.0  12.1  69.0\n",
              "1  0=Blood Donor   32   m  38.5  70.3  ...  11.17  4.80   74.0  15.6  76.5\n",
              "2  0=Blood Donor   32   m  46.9  74.7  ...   8.84  5.20   86.0  33.2  79.3\n",
              "3  0=Blood Donor   32   m  43.2  52.0  ...   7.33  4.74   80.0  33.8  75.7\n",
              "4  0=Blood Donor   32   m  39.2  74.1  ...   9.15  4.32   76.0  29.9  68.7\n",
              "\n",
              "[5 rows x 13 columns]"
            ]
          },
          "metadata": {
            "tags": []
          },
          "execution_count": 452
        }
      ]
    },
    {
      "cell_type": "markdown",
      "metadata": {
        "id": "QtGmoq5QWNuZ"
      },
      "source": [
        "### Verificando valores nulos\r\n",
        "\r\n",
        "Agora iremos avaliar se a base usada apresenta intâncias nulas. Com o resultado abaixo podemos concluir que os atributos ALB, ALP, ALT, CHOL e PROT todo têm ao menos uma instância nula. Com isso, iremos tratar esses valores."
      ]
    },
    {
      "cell_type": "code",
      "metadata": {
        "colab": {
          "base_uri": "https://localhost:8080/"
        },
        "id": "cDb-_d1SWVRP",
        "outputId": "37b2228e-fead-457d-d918-d7cfe6b91cba"
      },
      "source": [
        "nullValues = pd.isnull(dataset).sum()\r\n",
        "\r\n",
        "nullValues"
      ],
      "execution_count": 453,
      "outputs": [
        {
          "output_type": "execute_result",
          "data": {
            "text/plain": [
              "Category     0\n",
              "Age          0\n",
              "Sex          0\n",
              "ALB          1\n",
              "ALP         18\n",
              "ALT          1\n",
              "AST          0\n",
              "BIL          0\n",
              "CHE          0\n",
              "CHOL        10\n",
              "CREA         0\n",
              "GGT          0\n",
              "PROT         1\n",
              "dtype: int64"
            ]
          },
          "metadata": {
            "tags": []
          },
          "execution_count": 453
        }
      ]
    },
    {
      "cell_type": "markdown",
      "metadata": {
        "id": "Wrgc8VzWW9v8"
      },
      "source": [
        "#### Tratando os valores nulos\r\n",
        "\r\n",
        "Como foi visto posteriormente, temos valores a serem tratados. A partir disso, iremos descartar essas instâncias para um melhor funcionamento do algoritmo."
      ]
    },
    {
      "cell_type": "code",
      "metadata": {
        "colab": {
          "base_uri": "https://localhost:8080/"
        },
        "id": "58A-AldBX3Cz",
        "outputId": "4bcd933a-de14-4e25-9630-a3cd6d7dc8cd"
      },
      "source": [
        "dataset = dataset.dropna(axis = 0)\r\n",
        "pd.isnull(dataset).sum()"
      ],
      "execution_count": 454,
      "outputs": [
        {
          "output_type": "execute_result",
          "data": {
            "text/plain": [
              "Category    0\n",
              "Age         0\n",
              "Sex         0\n",
              "ALB         0\n",
              "ALP         0\n",
              "ALT         0\n",
              "AST         0\n",
              "BIL         0\n",
              "CHE         0\n",
              "CHOL        0\n",
              "CREA        0\n",
              "GGT         0\n",
              "PROT        0\n",
              "dtype: int64"
            ]
          },
          "metadata": {
            "tags": []
          },
          "execution_count": 454
        }
      ]
    },
    {
      "cell_type": "markdown",
      "metadata": {
        "id": "1E1MZN0PjWkD"
      },
      "source": [
        "### Separando a base de validação\r\n",
        "\r\n",
        "Será separada da base atual as instâncias que possuem o valor ``` 0s=suspect Blood Donor ``` no atributo ``` category ```, essa nova base será usada para validação da rede."
      ]
    },
    {
      "cell_type": "code",
      "metadata": {
        "colab": {
          "base_uri": "https://localhost:8080/",
          "height": 266
        },
        "id": "VR_4JjMjkINV",
        "outputId": "1c8bfcab-c829-4d34-d91b-2258886a2885"
      },
      "source": [
        "dataset_sbd = dataset\r\n",
        "dataset_sbd = dataset[dataset['Category'] == '0s=suspect Blood Donor']\r\n",
        "dataset = dataset[dataset['Category'] != '0s=suspect Blood Donor']\r\n",
        "dataset_sbd"
      ],
      "execution_count": 455,
      "outputs": [
        {
          "output_type": "execute_result",
          "data": {
            "text/html": [
              "<div>\n",
              "<style scoped>\n",
              "    .dataframe tbody tr th:only-of-type {\n",
              "        vertical-align: middle;\n",
              "    }\n",
              "\n",
              "    .dataframe tbody tr th {\n",
              "        vertical-align: top;\n",
              "    }\n",
              "\n",
              "    .dataframe thead th {\n",
              "        text-align: right;\n",
              "    }\n",
              "</style>\n",
              "<table border=\"1\" class=\"dataframe\">\n",
              "  <thead>\n",
              "    <tr style=\"text-align: right;\">\n",
              "      <th></th>\n",
              "      <th>Category</th>\n",
              "      <th>Age</th>\n",
              "      <th>Sex</th>\n",
              "      <th>ALB</th>\n",
              "      <th>ALP</th>\n",
              "      <th>ALT</th>\n",
              "      <th>AST</th>\n",
              "      <th>BIL</th>\n",
              "      <th>CHE</th>\n",
              "      <th>CHOL</th>\n",
              "      <th>CREA</th>\n",
              "      <th>GGT</th>\n",
              "      <th>PROT</th>\n",
              "    </tr>\n",
              "  </thead>\n",
              "  <tbody>\n",
              "    <tr>\n",
              "      <th>533</th>\n",
              "      <td>0s=suspect Blood Donor</td>\n",
              "      <td>47</td>\n",
              "      <td>m</td>\n",
              "      <td>22.5</td>\n",
              "      <td>124.0</td>\n",
              "      <td>79.5</td>\n",
              "      <td>46.7</td>\n",
              "      <td>2.3</td>\n",
              "      <td>6.83</td>\n",
              "      <td>4.30</td>\n",
              "      <td>170.0</td>\n",
              "      <td>345.6</td>\n",
              "      <td>58.6</td>\n",
              "    </tr>\n",
              "    <tr>\n",
              "      <th>534</th>\n",
              "      <td>0s=suspect Blood Donor</td>\n",
              "      <td>48</td>\n",
              "      <td>m</td>\n",
              "      <td>24.9</td>\n",
              "      <td>116.9</td>\n",
              "      <td>49.2</td>\n",
              "      <td>24.3</td>\n",
              "      <td>4.9</td>\n",
              "      <td>3.44</td>\n",
              "      <td>5.25</td>\n",
              "      <td>29.0</td>\n",
              "      <td>83.0</td>\n",
              "      <td>47.8</td>\n",
              "    </tr>\n",
              "    <tr>\n",
              "      <th>535</th>\n",
              "      <td>0s=suspect Blood Donor</td>\n",
              "      <td>49</td>\n",
              "      <td>m</td>\n",
              "      <td>21.6</td>\n",
              "      <td>42.2</td>\n",
              "      <td>9.5</td>\n",
              "      <td>10.6</td>\n",
              "      <td>2.4</td>\n",
              "      <td>3.75</td>\n",
              "      <td>3.01</td>\n",
              "      <td>64.0</td>\n",
              "      <td>38.9</td>\n",
              "      <td>44.8</td>\n",
              "    </tr>\n",
              "    <tr>\n",
              "      <th>536</th>\n",
              "      <td>0s=suspect Blood Donor</td>\n",
              "      <td>55</td>\n",
              "      <td>m</td>\n",
              "      <td>47.3</td>\n",
              "      <td>106.0</td>\n",
              "      <td>208.8</td>\n",
              "      <td>130.6</td>\n",
              "      <td>0.8</td>\n",
              "      <td>14.80</td>\n",
              "      <td>8.08</td>\n",
              "      <td>76.0</td>\n",
              "      <td>71.6</td>\n",
              "      <td>78.3</td>\n",
              "    </tr>\n",
              "    <tr>\n",
              "      <th>537</th>\n",
              "      <td>0s=suspect Blood Donor</td>\n",
              "      <td>71</td>\n",
              "      <td>m</td>\n",
              "      <td>14.9</td>\n",
              "      <td>69.8</td>\n",
              "      <td>19.7</td>\n",
              "      <td>95.2</td>\n",
              "      <td>9.8</td>\n",
              "      <td>13.30</td>\n",
              "      <td>2.61</td>\n",
              "      <td>9.0</td>\n",
              "      <td>7.6</td>\n",
              "      <td>47.0</td>\n",
              "    </tr>\n",
              "    <tr>\n",
              "      <th>538</th>\n",
              "      <td>0s=suspect Blood Donor</td>\n",
              "      <td>74</td>\n",
              "      <td>m</td>\n",
              "      <td>20.3</td>\n",
              "      <td>84.0</td>\n",
              "      <td>22.8</td>\n",
              "      <td>43.0</td>\n",
              "      <td>5.7</td>\n",
              "      <td>4.91</td>\n",
              "      <td>3.19</td>\n",
              "      <td>52.0</td>\n",
              "      <td>218.3</td>\n",
              "      <td>47.8</td>\n",
              "    </tr>\n",
              "    <tr>\n",
              "      <th>539</th>\n",
              "      <td>0s=suspect Blood Donor</td>\n",
              "      <td>59</td>\n",
              "      <td>f</td>\n",
              "      <td>19.3</td>\n",
              "      <td>208.2</td>\n",
              "      <td>325.3</td>\n",
              "      <td>146.6</td>\n",
              "      <td>6.9</td>\n",
              "      <td>5.33</td>\n",
              "      <td>4.72</td>\n",
              "      <td>32.0</td>\n",
              "      <td>295.6</td>\n",
              "      <td>53.1</td>\n",
              "    </tr>\n",
              "  </tbody>\n",
              "</table>\n",
              "</div>"
            ],
            "text/plain": [
              "                   Category  Age Sex   ALB  ...  CHOL   CREA    GGT  PROT\n",
              "533  0s=suspect Blood Donor   47   m  22.5  ...  4.30  170.0  345.6  58.6\n",
              "534  0s=suspect Blood Donor   48   m  24.9  ...  5.25   29.0   83.0  47.8\n",
              "535  0s=suspect Blood Donor   49   m  21.6  ...  3.01   64.0   38.9  44.8\n",
              "536  0s=suspect Blood Donor   55   m  47.3  ...  8.08   76.0   71.6  78.3\n",
              "537  0s=suspect Blood Donor   71   m  14.9  ...  2.61    9.0    7.6  47.0\n",
              "538  0s=suspect Blood Donor   74   m  20.3  ...  3.19   52.0  218.3  47.8\n",
              "539  0s=suspect Blood Donor   59   f  19.3  ...  4.72   32.0  295.6  53.1\n",
              "\n",
              "[7 rows x 13 columns]"
            ]
          },
          "metadata": {
            "tags": []
          },
          "execution_count": 455
        }
      ]
    },
    {
      "cell_type": "markdown",
      "metadata": {
        "id": "lCoamm8wlhWl"
      },
      "source": [
        "### One Hot Encoding\r\n",
        "\r\n",
        "Para que possamos obter resultados melhores e que a rede não se confunda na parte de aprendizagem, vamos fazer o **one hot encoding** das instâncias do atributo ```category```. Dessa forma, vamos transformar os valores de **Doador** como 1, no qual são representados pelo valor de instância ``` 0=Blood Donor ``` e os valores de **Não Doador** como 0, no qual são representados pelo valor de intância ```1=Hepatitis```, ```2=Fibrosis``` e ```3=Cirrhosis```. De maneira análoga, vamos fazer o mesmo para o atributo ```Sex```."
      ]
    },
    {
      "cell_type": "code",
      "metadata": {
        "colab": {
          "base_uri": "https://localhost:8080/"
        },
        "id": "28YI1wjingIt",
        "outputId": "f2894f52-84e5-403d-d139-bd81b9c3c315"
      },
      "source": [
        "encoder = LabelEncoder()\r\n",
        "dataset['Category'] = encoder.fit_transform(dataset['Category'] == '0=Blood Donor')\r\n",
        "dataset['Sex'] = encoder.fit_transform(dataset['Sex'])\r\n",
        "\r\n",
        "dataset_sbd['Sex'] = encoder.fit_transform(dataset_sbd['Sex'])\r\n",
        "\r\n",
        "print(dataset)\r\n",
        "\r\n",
        "print(dataset_sbd)"
      ],
      "execution_count": 456,
      "outputs": [
        {
          "output_type": "stream",
          "text": [
            "     Category  Age  Sex   ALB    ALP  ...    CHE  CHOL   CREA    GGT  PROT\n",
            "0           1   32    1  38.5   52.5  ...   6.93  3.23  106.0   12.1  69.0\n",
            "1           1   32    1  38.5   70.3  ...  11.17  4.80   74.0   15.6  76.5\n",
            "2           1   32    1  46.9   74.7  ...   8.84  5.20   86.0   33.2  79.3\n",
            "3           1   32    1  43.2   52.0  ...   7.33  4.74   80.0   33.8  75.7\n",
            "4           1   32    1  39.2   74.1  ...   9.15  4.32   76.0   29.9  68.7\n",
            "..        ...  ...  ...   ...    ...  ...    ...   ...    ...    ...   ...\n",
            "608         0   58    0  34.0   46.4  ...   6.26  3.98   56.0   49.7  80.6\n",
            "609         0   59    0  39.0   51.3  ...   5.77  4.51  136.1  101.1  70.5\n",
            "610         0   62    0  32.0  416.6  ...   5.57  6.30   55.7  650.9  68.5\n",
            "611         0   64    0  24.0  102.8  ...   1.54  3.02   63.0   35.9  71.3\n",
            "612         0   64    0  29.0   87.3  ...   1.66  3.63   66.7   64.2  82.0\n",
            "\n",
            "[582 rows x 13 columns]\n",
            "                   Category  Age  Sex   ALB  ...  CHOL   CREA    GGT  PROT\n",
            "533  0s=suspect Blood Donor   47    1  22.5  ...  4.30  170.0  345.6  58.6\n",
            "534  0s=suspect Blood Donor   48    1  24.9  ...  5.25   29.0   83.0  47.8\n",
            "535  0s=suspect Blood Donor   49    1  21.6  ...  3.01   64.0   38.9  44.8\n",
            "536  0s=suspect Blood Donor   55    1  47.3  ...  8.08   76.0   71.6  78.3\n",
            "537  0s=suspect Blood Donor   71    1  14.9  ...  2.61    9.0    7.6  47.0\n",
            "538  0s=suspect Blood Donor   74    1  20.3  ...  3.19   52.0  218.3  47.8\n",
            "539  0s=suspect Blood Donor   59    0  19.3  ...  4.72   32.0  295.6  53.1\n",
            "\n",
            "[7 rows x 13 columns]\n"
          ],
          "name": "stdout"
        }
      ]
    },
    {
      "cell_type": "markdown",
      "metadata": {
        "id": "eczpZoa7oM5w"
      },
      "source": [
        "### Verificando se a base está balanceada\r\n",
        "\r\n",
        "Este é um passo importante, então vamos analisar com cuidado 🤨. Bases desbalanceadas é um problema muito recorrente, até mesmo em grande empresas sofrem com isso, por exemplo o Twitter que foi fortemente criticado, pois o  algoritmo de reconhecimento facial dava prioridade a pessoas brancas, problema esse que pode ter sido acarretado por bases de treinamento mal balanceadas.\r\n",
        "\r\n",
        "Indubitavelmente, teremos que aplicar esse pré-processamento na nossa base. Primeiro será necessário a verificação na base se os atributos da base estão balanceados, vamos começar pelo ```Category```."
      ]
    },
    {
      "cell_type": "code",
      "metadata": {
        "colab": {
          "base_uri": "https://localhost:8080/",
          "height": 142
        },
        "id": "G3vtaduhqbhi",
        "outputId": "250b93c8-bfd8-4b7a-8bc4-d9ecd3f1f959"
      },
      "source": [
        "dataset.groupby('Category').count()"
      ],
      "execution_count": 457,
      "outputs": [
        {
          "output_type": "execute_result",
          "data": {
            "text/html": [
              "<div>\n",
              "<style scoped>\n",
              "    .dataframe tbody tr th:only-of-type {\n",
              "        vertical-align: middle;\n",
              "    }\n",
              "\n",
              "    .dataframe tbody tr th {\n",
              "        vertical-align: top;\n",
              "    }\n",
              "\n",
              "    .dataframe thead th {\n",
              "        text-align: right;\n",
              "    }\n",
              "</style>\n",
              "<table border=\"1\" class=\"dataframe\">\n",
              "  <thead>\n",
              "    <tr style=\"text-align: right;\">\n",
              "      <th></th>\n",
              "      <th>Age</th>\n",
              "      <th>Sex</th>\n",
              "      <th>ALB</th>\n",
              "      <th>ALP</th>\n",
              "      <th>ALT</th>\n",
              "      <th>AST</th>\n",
              "      <th>BIL</th>\n",
              "      <th>CHE</th>\n",
              "      <th>CHOL</th>\n",
              "      <th>CREA</th>\n",
              "      <th>GGT</th>\n",
              "      <th>PROT</th>\n",
              "    </tr>\n",
              "    <tr>\n",
              "      <th>Category</th>\n",
              "      <th></th>\n",
              "      <th></th>\n",
              "      <th></th>\n",
              "      <th></th>\n",
              "      <th></th>\n",
              "      <th></th>\n",
              "      <th></th>\n",
              "      <th></th>\n",
              "      <th></th>\n",
              "      <th></th>\n",
              "      <th></th>\n",
              "      <th></th>\n",
              "    </tr>\n",
              "  </thead>\n",
              "  <tbody>\n",
              "    <tr>\n",
              "      <th>0</th>\n",
              "      <td>56</td>\n",
              "      <td>56</td>\n",
              "      <td>56</td>\n",
              "      <td>56</td>\n",
              "      <td>56</td>\n",
              "      <td>56</td>\n",
              "      <td>56</td>\n",
              "      <td>56</td>\n",
              "      <td>56</td>\n",
              "      <td>56</td>\n",
              "      <td>56</td>\n",
              "      <td>56</td>\n",
              "    </tr>\n",
              "    <tr>\n",
              "      <th>1</th>\n",
              "      <td>526</td>\n",
              "      <td>526</td>\n",
              "      <td>526</td>\n",
              "      <td>526</td>\n",
              "      <td>526</td>\n",
              "      <td>526</td>\n",
              "      <td>526</td>\n",
              "      <td>526</td>\n",
              "      <td>526</td>\n",
              "      <td>526</td>\n",
              "      <td>526</td>\n",
              "      <td>526</td>\n",
              "    </tr>\n",
              "  </tbody>\n",
              "</table>\n",
              "</div>"
            ],
            "text/plain": [
              "          Age  Sex  ALB  ALP  ALT  AST  BIL  CHE  CHOL  CREA  GGT  PROT\n",
              "Category                                                               \n",
              "0          56   56   56   56   56   56   56   56    56    56   56    56\n",
              "1         526  526  526  526  526  526  526  526   526   526  526   526"
            ]
          },
          "metadata": {
            "tags": []
          },
          "execution_count": 457
        }
      ]
    },
    {
      "cell_type": "markdown",
      "metadata": {
        "id": "v_ciT7GjqtOF"
      },
      "source": [
        "Ao se analisar a tabela a cima é bem perceptível que a instância 1, que representa os doadores, possui cerca de 470 mais valores em todos os outros atributos em relação a isntância 0, que representa os não doadores. Desse modo, confirmamos que nossa base está desbanlanceada, então bora tratar isso? A maneira mais simples de fazer esse tratamento será retirar esses 470 valores para que a base esteja balanceada, outra forma seria na geração de dados da instância 0. Porém iremos pelo caminho mais simples, vamos agora retirar esses valores que possuem sobras."
      ]
    },
    {
      "cell_type": "code",
      "metadata": {
        "colab": {
          "base_uri": "https://localhost:8080/",
          "height": 419
        },
        "id": "asafxbaXsBEs",
        "outputId": "adb45662-bd31-43d3-fef9-16a267a6ef6d"
      },
      "source": [
        "dataset.drop(dataset.head(470).index, inplace = True) \r\n",
        "dataset"
      ],
      "execution_count": 458,
      "outputs": [
        {
          "output_type": "execute_result",
          "data": {
            "text/html": [
              "<div>\n",
              "<style scoped>\n",
              "    .dataframe tbody tr th:only-of-type {\n",
              "        vertical-align: middle;\n",
              "    }\n",
              "\n",
              "    .dataframe tbody tr th {\n",
              "        vertical-align: top;\n",
              "    }\n",
              "\n",
              "    .dataframe thead th {\n",
              "        text-align: right;\n",
              "    }\n",
              "</style>\n",
              "<table border=\"1\" class=\"dataframe\">\n",
              "  <thead>\n",
              "    <tr style=\"text-align: right;\">\n",
              "      <th></th>\n",
              "      <th>Category</th>\n",
              "      <th>Age</th>\n",
              "      <th>Sex</th>\n",
              "      <th>ALB</th>\n",
              "      <th>ALP</th>\n",
              "      <th>ALT</th>\n",
              "      <th>AST</th>\n",
              "      <th>BIL</th>\n",
              "      <th>CHE</th>\n",
              "      <th>CHOL</th>\n",
              "      <th>CREA</th>\n",
              "      <th>GGT</th>\n",
              "      <th>PROT</th>\n",
              "    </tr>\n",
              "  </thead>\n",
              "  <tbody>\n",
              "    <tr>\n",
              "      <th>476</th>\n",
              "      <td>1</td>\n",
              "      <td>53</td>\n",
              "      <td>0</td>\n",
              "      <td>43.7</td>\n",
              "      <td>84.3</td>\n",
              "      <td>18.8</td>\n",
              "      <td>18.6</td>\n",
              "      <td>8.5</td>\n",
              "      <td>10.22</td>\n",
              "      <td>6.65</td>\n",
              "      <td>56.0</td>\n",
              "      <td>16.5</td>\n",
              "      <td>76.9</td>\n",
              "    </tr>\n",
              "    <tr>\n",
              "      <th>477</th>\n",
              "      <td>1</td>\n",
              "      <td>53</td>\n",
              "      <td>0</td>\n",
              "      <td>43.5</td>\n",
              "      <td>61.7</td>\n",
              "      <td>16.9</td>\n",
              "      <td>20.3</td>\n",
              "      <td>7.0</td>\n",
              "      <td>7.19</td>\n",
              "      <td>6.97</td>\n",
              "      <td>74.0</td>\n",
              "      <td>12.3</td>\n",
              "      <td>69.2</td>\n",
              "    </tr>\n",
              "    <tr>\n",
              "      <th>478</th>\n",
              "      <td>1</td>\n",
              "      <td>53</td>\n",
              "      <td>0</td>\n",
              "      <td>41.1</td>\n",
              "      <td>91.7</td>\n",
              "      <td>13.8</td>\n",
              "      <td>19.6</td>\n",
              "      <td>3.4</td>\n",
              "      <td>7.87</td>\n",
              "      <td>5.48</td>\n",
              "      <td>72.0</td>\n",
              "      <td>77.3</td>\n",
              "      <td>77.3</td>\n",
              "    </tr>\n",
              "    <tr>\n",
              "      <th>479</th>\n",
              "      <td>1</td>\n",
              "      <td>53</td>\n",
              "      <td>0</td>\n",
              "      <td>38.0</td>\n",
              "      <td>84.7</td>\n",
              "      <td>23.5</td>\n",
              "      <td>19.8</td>\n",
              "      <td>10.8</td>\n",
              "      <td>7.30</td>\n",
              "      <td>4.82</td>\n",
              "      <td>62.0</td>\n",
              "      <td>11.4</td>\n",
              "      <td>68.5</td>\n",
              "    </tr>\n",
              "    <tr>\n",
              "      <th>480</th>\n",
              "      <td>1</td>\n",
              "      <td>53</td>\n",
              "      <td>0</td>\n",
              "      <td>47.4</td>\n",
              "      <td>66.9</td>\n",
              "      <td>24.3</td>\n",
              "      <td>32.6</td>\n",
              "      <td>14.9</td>\n",
              "      <td>10.51</td>\n",
              "      <td>6.03</td>\n",
              "      <td>81.0</td>\n",
              "      <td>25.2</td>\n",
              "      <td>75.0</td>\n",
              "    </tr>\n",
              "    <tr>\n",
              "      <th>...</th>\n",
              "      <td>...</td>\n",
              "      <td>...</td>\n",
              "      <td>...</td>\n",
              "      <td>...</td>\n",
              "      <td>...</td>\n",
              "      <td>...</td>\n",
              "      <td>...</td>\n",
              "      <td>...</td>\n",
              "      <td>...</td>\n",
              "      <td>...</td>\n",
              "      <td>...</td>\n",
              "      <td>...</td>\n",
              "      <td>...</td>\n",
              "    </tr>\n",
              "    <tr>\n",
              "      <th>608</th>\n",
              "      <td>0</td>\n",
              "      <td>58</td>\n",
              "      <td>0</td>\n",
              "      <td>34.0</td>\n",
              "      <td>46.4</td>\n",
              "      <td>15.0</td>\n",
              "      <td>150.0</td>\n",
              "      <td>8.0</td>\n",
              "      <td>6.26</td>\n",
              "      <td>3.98</td>\n",
              "      <td>56.0</td>\n",
              "      <td>49.7</td>\n",
              "      <td>80.6</td>\n",
              "    </tr>\n",
              "    <tr>\n",
              "      <th>609</th>\n",
              "      <td>0</td>\n",
              "      <td>59</td>\n",
              "      <td>0</td>\n",
              "      <td>39.0</td>\n",
              "      <td>51.3</td>\n",
              "      <td>19.6</td>\n",
              "      <td>285.8</td>\n",
              "      <td>40.0</td>\n",
              "      <td>5.77</td>\n",
              "      <td>4.51</td>\n",
              "      <td>136.1</td>\n",
              "      <td>101.1</td>\n",
              "      <td>70.5</td>\n",
              "    </tr>\n",
              "    <tr>\n",
              "      <th>610</th>\n",
              "      <td>0</td>\n",
              "      <td>62</td>\n",
              "      <td>0</td>\n",
              "      <td>32.0</td>\n",
              "      <td>416.6</td>\n",
              "      <td>5.9</td>\n",
              "      <td>110.3</td>\n",
              "      <td>50.0</td>\n",
              "      <td>5.57</td>\n",
              "      <td>6.30</td>\n",
              "      <td>55.7</td>\n",
              "      <td>650.9</td>\n",
              "      <td>68.5</td>\n",
              "    </tr>\n",
              "    <tr>\n",
              "      <th>611</th>\n",
              "      <td>0</td>\n",
              "      <td>64</td>\n",
              "      <td>0</td>\n",
              "      <td>24.0</td>\n",
              "      <td>102.8</td>\n",
              "      <td>2.9</td>\n",
              "      <td>44.4</td>\n",
              "      <td>20.0</td>\n",
              "      <td>1.54</td>\n",
              "      <td>3.02</td>\n",
              "      <td>63.0</td>\n",
              "      <td>35.9</td>\n",
              "      <td>71.3</td>\n",
              "    </tr>\n",
              "    <tr>\n",
              "      <th>612</th>\n",
              "      <td>0</td>\n",
              "      <td>64</td>\n",
              "      <td>0</td>\n",
              "      <td>29.0</td>\n",
              "      <td>87.3</td>\n",
              "      <td>3.5</td>\n",
              "      <td>99.0</td>\n",
              "      <td>48.0</td>\n",
              "      <td>1.66</td>\n",
              "      <td>3.63</td>\n",
              "      <td>66.7</td>\n",
              "      <td>64.2</td>\n",
              "      <td>82.0</td>\n",
              "    </tr>\n",
              "  </tbody>\n",
              "</table>\n",
              "<p>112 rows × 13 columns</p>\n",
              "</div>"
            ],
            "text/plain": [
              "     Category  Age  Sex   ALB    ALP  ...    CHE  CHOL   CREA    GGT  PROT\n",
              "476         1   53    0  43.7   84.3  ...  10.22  6.65   56.0   16.5  76.9\n",
              "477         1   53    0  43.5   61.7  ...   7.19  6.97   74.0   12.3  69.2\n",
              "478         1   53    0  41.1   91.7  ...   7.87  5.48   72.0   77.3  77.3\n",
              "479         1   53    0  38.0   84.7  ...   7.30  4.82   62.0   11.4  68.5\n",
              "480         1   53    0  47.4   66.9  ...  10.51  6.03   81.0   25.2  75.0\n",
              "..        ...  ...  ...   ...    ...  ...    ...   ...    ...    ...   ...\n",
              "608         0   58    0  34.0   46.4  ...   6.26  3.98   56.0   49.7  80.6\n",
              "609         0   59    0  39.0   51.3  ...   5.77  4.51  136.1  101.1  70.5\n",
              "610         0   62    0  32.0  416.6  ...   5.57  6.30   55.7  650.9  68.5\n",
              "611         0   64    0  24.0  102.8  ...   1.54  3.02   63.0   35.9  71.3\n",
              "612         0   64    0  29.0   87.3  ...   1.66  3.63   66.7   64.2  82.0\n",
              "\n",
              "[112 rows x 13 columns]"
            ]
          },
          "metadata": {
            "tags": []
          },
          "execution_count": 458
        }
      ]
    },
    {
      "cell_type": "markdown",
      "metadata": {
        "id": "AOAW98Z4sPBf"
      },
      "source": [
        "Após essa retirada teremos que confirmar que a base está totalmente balanceada. Agora podemos afirmar que a base está balanceada e seguir para o próximo passo."
      ]
    },
    {
      "cell_type": "code",
      "metadata": {
        "colab": {
          "base_uri": "https://localhost:8080/",
          "height": 142
        },
        "id": "nmIb0wetsLVF",
        "outputId": "be7741ea-b71f-4c96-cb01-a205a449cb99"
      },
      "source": [
        "dataset.groupby('Category').count()"
      ],
      "execution_count": 459,
      "outputs": [
        {
          "output_type": "execute_result",
          "data": {
            "text/html": [
              "<div>\n",
              "<style scoped>\n",
              "    .dataframe tbody tr th:only-of-type {\n",
              "        vertical-align: middle;\n",
              "    }\n",
              "\n",
              "    .dataframe tbody tr th {\n",
              "        vertical-align: top;\n",
              "    }\n",
              "\n",
              "    .dataframe thead th {\n",
              "        text-align: right;\n",
              "    }\n",
              "</style>\n",
              "<table border=\"1\" class=\"dataframe\">\n",
              "  <thead>\n",
              "    <tr style=\"text-align: right;\">\n",
              "      <th></th>\n",
              "      <th>Age</th>\n",
              "      <th>Sex</th>\n",
              "      <th>ALB</th>\n",
              "      <th>ALP</th>\n",
              "      <th>ALT</th>\n",
              "      <th>AST</th>\n",
              "      <th>BIL</th>\n",
              "      <th>CHE</th>\n",
              "      <th>CHOL</th>\n",
              "      <th>CREA</th>\n",
              "      <th>GGT</th>\n",
              "      <th>PROT</th>\n",
              "    </tr>\n",
              "    <tr>\n",
              "      <th>Category</th>\n",
              "      <th></th>\n",
              "      <th></th>\n",
              "      <th></th>\n",
              "      <th></th>\n",
              "      <th></th>\n",
              "      <th></th>\n",
              "      <th></th>\n",
              "      <th></th>\n",
              "      <th></th>\n",
              "      <th></th>\n",
              "      <th></th>\n",
              "      <th></th>\n",
              "    </tr>\n",
              "  </thead>\n",
              "  <tbody>\n",
              "    <tr>\n",
              "      <th>0</th>\n",
              "      <td>56</td>\n",
              "      <td>56</td>\n",
              "      <td>56</td>\n",
              "      <td>56</td>\n",
              "      <td>56</td>\n",
              "      <td>56</td>\n",
              "      <td>56</td>\n",
              "      <td>56</td>\n",
              "      <td>56</td>\n",
              "      <td>56</td>\n",
              "      <td>56</td>\n",
              "      <td>56</td>\n",
              "    </tr>\n",
              "    <tr>\n",
              "      <th>1</th>\n",
              "      <td>56</td>\n",
              "      <td>56</td>\n",
              "      <td>56</td>\n",
              "      <td>56</td>\n",
              "      <td>56</td>\n",
              "      <td>56</td>\n",
              "      <td>56</td>\n",
              "      <td>56</td>\n",
              "      <td>56</td>\n",
              "      <td>56</td>\n",
              "      <td>56</td>\n",
              "      <td>56</td>\n",
              "    </tr>\n",
              "  </tbody>\n",
              "</table>\n",
              "</div>"
            ],
            "text/plain": [
              "          Age  Sex  ALB  ALP  ALT  AST  BIL  CHE  CHOL  CREA  GGT  PROT\n",
              "Category                                                               \n",
              "0          56   56   56   56   56   56   56   56    56    56   56    56\n",
              "1          56   56   56   56   56   56   56   56    56    56   56    56"
            ]
          },
          "metadata": {
            "tags": []
          },
          "execution_count": 459
        }
      ]
    },
    {
      "cell_type": "markdown",
      "metadata": {
        "id": "YDcJXON-szSS"
      },
      "source": [
        "### Verificando Correlação\r\n",
        "\r\n",
        "O próximo passo a ser dado será a verificação de correlação entre os atributos. Dependendo do resultado poderemos remover dados com alta correlação ou até mesmo agregando esses atributos. Após a veficação da plotagem do gráfico percebemos que o os atributos que possuem o maior valor de auto correlação são o ```ALB``` e ```CHE```, cerca de 65%, porém não será necessário o tratamento desses atributos por não possuir uma correlação tão alta, não ultrapassando os 80%. "
      ]
    },
    {
      "cell_type": "code",
      "metadata": {
        "colab": {
          "base_uri": "https://localhost:8080/",
          "height": 693
        },
        "id": "wHcRWM8YvBRy",
        "outputId": "ddefc669-30ae-43e3-b6b7-05c1c0fd8156"
      },
      "source": [
        "sn.set(style='ticks', color_codes=True)\r\n",
        "plt.figure(figsize=(14, 12))\r\n",
        "sn.heatmap(dataset.corr(), \r\n",
        "          linewidths=0.1, \r\n",
        "          square=True, \r\n",
        "          linecolor='black', \r\n",
        "          annot=True,\r\n",
        "          cmap='Blues')\r\n",
        "\r\n",
        "plt.show()"
      ],
      "execution_count": 460,
      "outputs": [
        {
          "output_type": "display_data",
          "data": {
            "image/png": "[encoded data removed]",
            "text/plain": [
              "<Figure size 1008x864 with 2 Axes>"
            ]
          },
          "metadata": {
            "tags": []
          }
        }
      ]
    },
    {
      "cell_type": "markdown",
      "metadata": {
        "id": "HTYxlwkeyhKP"
      },
      "source": [
        "### Verificando outliers\r\n",
        "\r\n",
        "Neste passo será a verificação e tratamento de outliers que acabam contribuindo negativamente para aprendizagem do nosso algoritmo."
      ]
    },
    {
      "cell_type": "code",
      "metadata": {
        "colab": {
          "base_uri": "https://localhost:8080/",
          "height": 720
        },
        "id": "vivTkWQty6f_",
        "outputId": "ab8b740b-d315-48d9-dacf-e4f7dc7e04ef"
      },
      "source": [
        "dataset.boxplot(figsize=(24,12))"
      ],
      "execution_count": 461,
      "outputs": [
        {
          "output_type": "execute_result",
          "data": {
            "text/plain": [
              "<matplotlib.axes._subplots.AxesSubplot at 0x7f99c5b48860>"
            ]
          },
          "metadata": {
            "tags": []
          },
          "execution_count": 461
        },
        {
          "output_type": "display_data",
          "data": {
            "image/png": "[encoded data removed]",
            "text/plain": [
              "<Figure size 1728x864 with 1 Axes>"
            ]
          },
          "metadata": {
            "tags": []
          }
        }
      ]
    },
    {
      "cell_type": "markdown",
      "metadata": {
        "id": "j10dm7kwzPZh"
      },
      "source": [
        "A partir da verficação do gráfico acima, conseguimos identificar vários outliers. Assim, temos que fazer o tratamento desses outliers, aplicando uma função de normalização de dados, que será melhor explicada no próximo e último tópico de pré-processamento."
      ]
    },
    {
      "cell_type": "markdown",
      "metadata": {
        "id": "LHd7mRGBz8KQ"
      },
      "source": [
        "### Normalizando a base\r\n",
        "\r\n",
        "Para normalizar a base foi usado a função Standard Scaler, pois ela padroniza os recursos removendo a média e escalonando para a variação da unidade. O principal motivo para o uso dessa normalização foi porque a padronização de um conjunto de dados é um requisito comum para muitos estimadores de aprendizado de máquina."
      ]
    },
    {
      "cell_type": "code",
      "metadata": {
        "id": "Qbqxw8BM0I8r"
      },
      "source": [
        "column_mean = dataset.mean()\r\n",
        "column_std = dataset.std()\r\n",
        "\r\n",
        "dataset_transformed = (dataset - column_mean) / column_std\r\n",
        "\r\n",
        "dataset_transformed['Category'] = encoder.fit_transform(dataset_transformed['Category'])"
      ],
      "execution_count": 462,
      "outputs": []
    },
    {
      "cell_type": "markdown",
      "metadata": {
        "id": "QWAI7Kzu6cI4"
      },
      "source": [
        "## Perceptron de multicamadas\r\n",
        "\r\n",
        "Para a contrução da RNA precisamos obter os valores de previsões e classe"
      ]
    },
    {
      "cell_type": "code",
      "metadata": {
        "id": "aLvX_CRq6z2T"
      },
      "source": [
        "dataset_predict = dataset.iloc[:, 1:14]\r\n",
        "dataset_class = dataset.iloc[:, 0]\r\n",
        "\r\n",
        "dataset_transformed_previous = dataset_transformed.iloc[:, 1:14]\r\n",
        "dataset_transformed_class = dataset_transformed.iloc[:, 0]"
      ],
      "execution_count": 478,
      "outputs": []
    },
    {
      "cell_type": "markdown",
      "metadata": {
        "id": "Jsi7dhbs7qUf"
      },
      "source": [
        "### Subdividindo a base de dados\r\n",
        "\r\n",
        "Primeiramente para começarmos o treinamento, temos que subvidir nossa base de dados em treinamento e teste. A partir desse pressuposto, iremos dividir cerca de 20% para teste e 80% da base de dados para o treinamento da rede, vamo nessa!"
      ]
    },
    {
      "cell_type": "code",
      "metadata": {
        "id": "eoYZaA3B-OGE"
      },
      "source": [
        "train_previous, test_previous, train_class, test_class = train_test_split(dataset_predict, dataset_class, random_state = 0, test_size = 0.20)"
      ],
      "execution_count": 479,
      "outputs": []
    },
    {
      "cell_type": "markdown",
      "metadata": {
        "id": "zohCn5wo_jDS"
      },
      "source": [
        "### Criando a RNA\r\n",
        "\r\n",
        "Vamos construir nosso modelo ultizando o keras, será uma rede totalemente conectada. Primeiro será necessário a construção da camada de entrada, das camadas ocultas e da camada de saída."
      ]
    },
    {
      "cell_type": "code",
      "metadata": {
        "id": "PjimUNYm_5y3"
      },
      "source": [
        "model = Sequential()\r\n",
        "model.add(Dense(units = 6, activation = 'relu', kernel_initializer = 'random_uniform', input_dim = 12))\r\n",
        "model.add(Dense(units = 6, activation = 'relu', kernel_initializer = 'random_uniform'))\r\n",
        "model.add(Dense(units = 1, activation = 'sigmoid'))"
      ],
      "execution_count": 480,
      "outputs": []
    },
    {
      "cell_type": "markdown",
      "metadata": {
        "id": "sYUcDL3XAYUu"
      },
      "source": [
        "Agora iremos executar nosso modelo."
      ]
    },
    {
      "cell_type": "code",
      "metadata": {
        "id": "_86npDaRAgxz"
      },
      "source": [
        "model.compile(optimizer = 'adam', loss = 'binary_crossentropy', metrics = ['binary_accuracy'])"
      ],
      "execution_count": 481,
      "outputs": []
    },
    {
      "cell_type": "markdown",
      "metadata": {
        "id": "Kj6bykzDCB4L"
      },
      "source": [
        "### Treinando a rede\r\n",
        "\r\n",
        "Após o modelo ter sido criado iremos treina-los. Será usada 18 épocas, pois a partir dela teremos um overfitting. Apesar de conseguir um resultado bom no treinamento temos que validar o modelo, isso será melhor demonstrado no próximo tópico."
      ]
    },
    {
      "cell_type": "code",
      "metadata": {
        "colab": {
          "base_uri": "https://localhost:8080/"
        },
        "id": "h1f-G1NfCt-0",
        "outputId": "e56cf390-018a-4ce9-96d2-a94b18d23ec5"
      },
      "source": [
        "model.fit(train_previous, train_class, batch_size = 5, epochs = 18)"
      ],
      "execution_count": 482,
      "outputs": [
        {
          "output_type": "stream",
          "text": [
            "Epoch 1/18\n",
            "18/18 [==============================] - 0s 1ms/step - loss: 0.6261 - binary_accuracy: 0.7416\n",
            "Epoch 2/18\n",
            "18/18 [==============================] - 0s 1ms/step - loss: 0.4895 - binary_accuracy: 0.8315\n",
            "Epoch 3/18\n",
            "18/18 [==============================] - 0s 948us/step - loss: 0.3863 - binary_accuracy: 0.8989\n",
            "Epoch 4/18\n",
            "18/18 [==============================] - 0s 1ms/step - loss: 0.3080 - binary_accuracy: 0.9101\n",
            "Epoch 5/18\n",
            "18/18 [==============================] - 0s 2ms/step - loss: 0.2472 - binary_accuracy: 0.9101\n",
            "Epoch 6/18\n",
            "18/18 [==============================] - 0s 1ms/step - loss: 0.2110 - binary_accuracy: 0.9213\n",
            "Epoch 7/18\n",
            "18/18 [==============================] - 0s 1ms/step - loss: 0.1764 - binary_accuracy: 0.9551\n",
            "Epoch 8/18\n",
            "18/18 [==============================] - 0s 1ms/step - loss: 0.1534 - binary_accuracy: 0.9326\n",
            "Epoch 9/18\n",
            "18/18 [==============================] - 0s 1ms/step - loss: 0.1261 - binary_accuracy: 0.9551\n",
            "Epoch 10/18\n",
            "18/18 [==============================] - 0s 1ms/step - loss: 0.1191 - binary_accuracy: 0.9663\n",
            "Epoch 11/18\n",
            "18/18 [==============================] - 0s 979us/step - loss: 0.0987 - binary_accuracy: 0.9775\n",
            "Epoch 12/18\n",
            "18/18 [==============================] - 0s 1ms/step - loss: 0.0835 - binary_accuracy: 0.9775\n",
            "Epoch 13/18\n",
            "18/18 [==============================] - 0s 1ms/step - loss: 0.0706 - binary_accuracy: 0.9775\n",
            "Epoch 14/18\n",
            "18/18 [==============================] - 0s 1ms/step - loss: 0.0586 - binary_accuracy: 0.9888\n",
            "Epoch 15/18\n",
            "18/18 [==============================] - 0s 1ms/step - loss: 0.0610 - binary_accuracy: 0.9775\n",
            "Epoch 16/18\n",
            "18/18 [==============================] - 0s 1ms/step - loss: 0.0550 - binary_accuracy: 1.0000\n",
            "Epoch 17/18\n",
            "18/18 [==============================] - 0s 1ms/step - loss: 0.0504 - binary_accuracy: 0.9775\n",
            "Epoch 18/18\n",
            "18/18 [==============================] - 0s 1ms/step - loss: 0.0386 - binary_accuracy: 1.0000\n"
          ],
          "name": "stdout"
        },
        {
          "output_type": "execute_result",
          "data": {
            "text/plain": [
              "<tensorflow.python.keras.callbacks.History at 0x7f99b930c828>"
            ]
          },
          "metadata": {
            "tags": []
          },
          "execution_count": 482
        }
      ]
    },
    {
      "cell_type": "markdown",
      "metadata": {
        "id": "fGlsOQbfGOeP"
      },
      "source": [
        "### Validando o modelo\r\n",
        "\r\n",
        "Neste tópico iremos verificar se nosso modelo consegue bons resultados com dados diferentes do treinado, com isso, iremos valida-lo. Com o resultado obtido abaixo, percebemos que estamos com resultados bons, demonstrando que a rede está conseguindo generalizar bem."
      ]
    },
    {
      "cell_type": "code",
      "metadata": {
        "colab": {
          "base_uri": "https://localhost:8080/"
        },
        "id": "qxsXn9ShG-kd",
        "outputId": "d7d16a64-7f6e-42e3-eb8c-58374158ec15"
      },
      "source": [
        "validation = model.evaluate(test_previous, test_class)"
      ],
      "execution_count": 483,
      "outputs": [
        {
          "output_type": "stream",
          "text": [
            "WARNING:tensorflow:9 out of the last 11 calls to <function Model.make_test_function.<locals>.test_function at 0x7f99b9333a60> triggered tf.function retracing. Tracing is expensive and the excessive number of tracings could be due to (1) creating @tf.function repeatedly in a loop, (2) passing tensors with different shapes, (3) passing Python objects instead of tensors. For (1), please define your @tf.function outside of the loop. For (2), @tf.function has experimental_relax_shapes=True option that relaxes argument shapes that can avoid unnecessary retracing. For (3), please refer to https://www.tensorflow.org/tutorials/customization/performance#python_or_tensor_args and https://www.tensorflow.org/api_docs/python/tf/function for  more details.\n",
            "1/1 [==============================] - 0s 2ms/step - loss: 0.0965 - binary_accuracy: 0.9565\n"
          ],
          "name": "stdout"
        }
      ]
    },
    {
      "cell_type": "markdown",
      "metadata": {
        "id": "_Fb5cen8IzyK"
      },
      "source": [
        "### Plotando resultados\r\n",
        "\r\n",
        "Vamos mostrar agora os resultados obtidos, é importante lembrar que estamos usando a base não normalizada, posteriormente os resultados com a base normalizada será mostrado. "
      ]
    },
    {
      "cell_type": "code",
      "metadata": {
        "colab": {
          "base_uri": "https://localhost:8080/",
          "height": 322
        },
        "id": "BUDacU3BJKUJ",
        "outputId": "9bee6d9e-1545-4086-814f-3e6792d1885e"
      },
      "source": [
        "predictions = model.predict(test_predict)\r\n",
        "predictions = (predictions > 0.5)\r\n",
        "\r\n",
        "ax = confusion_matrix(test_class, predictions)\r\n",
        "df = pd.DataFrame(ax, range(2), range(2))\r\n",
        "sn.heatmap(df, annot=True, annot_kws={\"size\": 15}, cmap='Blues')"
      ],
      "execution_count": 473,
      "outputs": [
        {
          "output_type": "stream",
          "text": [
            "WARNING:tensorflow:6 out of the last 12 calls to <function Model.make_predict_function.<locals>.predict_function at 0x7f99ba3bdb70> triggered tf.function retracing. Tracing is expensive and the excessive number of tracings could be due to (1) creating @tf.function repeatedly in a loop, (2) passing tensors with different shapes, (3) passing Python objects instead of tensors. For (1), please define your @tf.function outside of the loop. For (2), @tf.function has experimental_relax_shapes=True option that relaxes argument shapes that can avoid unnecessary retracing. For (3), please refer to https://www.tensorflow.org/tutorials/customization/performance#python_or_tensor_args and https://www.tensorflow.org/api_docs/python/tf/function for  more details.\n"
          ],
          "name": "stdout"
        },
        {
          "output_type": "execute_result",
          "data": {
            "text/plain": [
              "<matplotlib.axes._subplots.AxesSubplot at 0x7f99b9b59470>"
            ]
          },
          "metadata": {
            "tags": []
          },
          "execution_count": 473
        },
        {
          "output_type": "display_data",
          "data": {
            "image/png": "[encoded data removed]",
            "text/plain": [
              "<Figure size 432x288 with 2 Axes>"
            ]
          },
          "metadata": {
            "tags": []
          }
        }
      ]
    },
    {
      "cell_type": "code",
      "metadata": {
        "colab": {
          "base_uri": "https://localhost:8080/"
        },
        "id": "d5oPx0ftfKyG",
        "outputId": "7f5ab7e1-dfb5-4c7f-8e68-531fb57b8ec7"
      },
      "source": [
        "sens = (11 / (0 + 11))\r\n",
        "print('Sensibilidade', sens * 100, '%')\r\n",
        "espe = (11 / (11 + 1))\r\n",
        "print('Especificidade', espe * 100, '%')"
      ],
      "execution_count": 474,
      "outputs": [
        {
          "output_type": "stream",
          "text": [
            "Sensibilidade 100.0 %\n",
            "Especificidade 91.66666666666666 %\n"
          ],
          "name": "stdout"
        }
      ]
    },
    {
      "cell_type": "markdown",
      "metadata": {
        "id": "BGLuD0A3KoUk"
      },
      "source": [
        "Analisando a matriz de confusão percebemos que o modelo conseguiu ter resultados bastante animadores. Assim o modelo conseguiu classificar 11 de 12 instâncias da classe não doador e 100% das instâncias da classe doador."
      ]
    },
    {
      "cell_type": "markdown",
      "metadata": {
        "id": "_JYGtjc9LgeO"
      },
      "source": [
        "### Resultados da base normalizada\r\n",
        "\r\n",
        "Analogamente todos passos usados na base não normalizada, foi aplicado na base normalizada"
      ]
    },
    {
      "cell_type": "code",
      "metadata": {
        "colab": {
          "base_uri": "https://localhost:8080/"
        },
        "id": "SLRjqF6fMipX",
        "outputId": "5740f328-2700-45f7-9a58-7ae9d227e219"
      },
      "source": [
        "train_predict_N, test_predict_N, train_class_N, test_class_N = train_test_split(\r\n",
        "    dataset_transformed_previous, \r\n",
        "    dataset_transformed_class, \r\n",
        "    random_state = 0, \r\n",
        "    test_size = 0.20)\r\n",
        "\r\n",
        "modelN = Sequential()\r\n",
        "modelN.add(Dense(units = 6, activation = 'relu', kernel_initializer = 'random_uniform', input_dim = 12))\r\n",
        "modelN.add(Dense(units = 6, activation = 'relu', kernel_initializer = 'random_uniform'))\r\n",
        "modelN.add(Dense(units = 1, activation = 'sigmoid'))\r\n",
        "\r\n",
        "modelN.compile(optimizer = 'adam', loss = 'binary_crossentropy', metrics = ['binary_accuracy'])\r\n",
        "\r\n",
        "modelN.fit(train_predict_N, train_class_N, batch_size = 5, epochs = 20)"
      ],
      "execution_count": 467,
      "outputs": [
        {
          "output_type": "stream",
          "text": [
            "Epoch 1/20\n",
            "18/18 [==============================] - 0s 1ms/step - loss: 0.6938 - binary_accuracy: 0.4382\n",
            "Epoch 2/20\n",
            "18/18 [==============================] - 0s 1ms/step - loss: 0.6932 - binary_accuracy: 0.5056\n",
            "Epoch 3/20\n",
            "18/18 [==============================] - 0s 1ms/step - loss: 0.6929 - binary_accuracy: 0.5056\n",
            "Epoch 4/20\n",
            "18/18 [==============================] - 0s 1ms/step - loss: 0.6924 - binary_accuracy: 0.5056\n",
            "Epoch 5/20\n",
            "18/18 [==============================] - 0s 1ms/step - loss: 0.6912 - binary_accuracy: 0.5056\n",
            "Epoch 6/20\n",
            "18/18 [==============================] - 0s 1ms/step - loss: 0.6886 - binary_accuracy: 0.5056\n",
            "Epoch 7/20\n",
            "18/18 [==============================] - 0s 1ms/step - loss: 0.6838 - binary_accuracy: 0.5056\n",
            "Epoch 8/20\n",
            "18/18 [==============================] - 0s 1ms/step - loss: 0.6750 - binary_accuracy: 0.5506\n",
            "Epoch 9/20\n",
            "18/18 [==============================] - 0s 1ms/step - loss: 0.6531 - binary_accuracy: 0.9213\n",
            "Epoch 10/20\n",
            "18/18 [==============================] - 0s 1ms/step - loss: 0.6164 - binary_accuracy: 0.9663\n",
            "Epoch 11/20\n",
            "18/18 [==============================] - 0s 1ms/step - loss: 0.5716 - binary_accuracy: 0.9663\n",
            "Epoch 12/20\n",
            "18/18 [==============================] - 0s 1ms/step - loss: 0.5209 - binary_accuracy: 0.9663\n",
            "Epoch 13/20\n",
            "18/18 [==============================] - 0s 1ms/step - loss: 0.4664 - binary_accuracy: 0.9663\n",
            "Epoch 14/20\n",
            "18/18 [==============================] - 0s 2ms/step - loss: 0.4049 - binary_accuracy: 0.9663\n",
            "Epoch 15/20\n",
            "18/18 [==============================] - 0s 1ms/step - loss: 0.3344 - binary_accuracy: 0.9663\n",
            "Epoch 16/20\n",
            "18/18 [==============================] - 0s 1ms/step - loss: 0.2773 - binary_accuracy: 0.9775\n",
            "Epoch 17/20\n",
            "18/18 [==============================] - 0s 1ms/step - loss: 0.2331 - binary_accuracy: 0.9775\n",
            "Epoch 18/20\n",
            "18/18 [==============================] - 0s 1ms/step - loss: 0.1963 - binary_accuracy: 0.9775\n",
            "Epoch 19/20\n",
            "18/18 [==============================] - 0s 1ms/step - loss: 0.1691 - binary_accuracy: 0.9775\n",
            "Epoch 20/20\n",
            "18/18 [==============================] - 0s 1ms/step - loss: 0.1466 - binary_accuracy: 0.9775\n"
          ],
          "name": "stdout"
        },
        {
          "output_type": "execute_result",
          "data": {
            "text/plain": [
              "<tensorflow.python.keras.callbacks.History at 0x7f99bb65fa90>"
            ]
          },
          "metadata": {
            "tags": []
          },
          "execution_count": 467
        }
      ]
    },
    {
      "cell_type": "code",
      "metadata": {
        "colab": {
          "base_uri": "https://localhost:8080/",
          "height": 289
        },
        "id": "5oJFMIHMNoZA",
        "outputId": "8080c771-d4d0-4642-bded-3913664efbde"
      },
      "source": [
        "predictions_N = modelN.predict(test_predict_N)\r\n",
        "predictions_N = (predictions > 0.5)\r\n",
        "\r\n",
        "ax2 = confusion_matrix(test_class, predictions_N)\r\n",
        "df = pd.DataFrame(ax, range(2), range(2))\r\n",
        "sn.heatmap(df, annot=True, annot_kws={\"size\": 15}, cmap='Blues')"
      ],
      "execution_count": 469,
      "outputs": [
        {
          "output_type": "execute_result",
          "data": {
            "text/plain": [
              "<matplotlib.axes._subplots.AxesSubplot at 0x7f99ba5125f8>"
            ]
          },
          "metadata": {
            "tags": []
          },
          "execution_count": 469
        },
        {
          "output_type": "display_data",
          "data": {
            "image/png": "[encoded data removed]",
            "text/plain": [
              "<Figure size 432x288 with 2 Axes>"
            ]
          },
          "metadata": {
            "tags": []
          }
        }
      ]
    },
    {
      "cell_type": "code",
      "metadata": {
        "colab": {
          "base_uri": "https://localhost:8080/"
        },
        "id": "WWbO1CSzeDTk",
        "outputId": "124f3834-b964-434b-c321-b4996eb584a0"
      },
      "source": [
        "sens = (11 / (0 + 11))\r\n",
        "print('Sensibilidade', sens * 100, '%')\r\n",
        "espe = (12 / (12 + 0))\r\n",
        "print('Especificidade', espe * 100, '%')"
      ],
      "execution_count": 475,
      "outputs": [
        {
          "output_type": "stream",
          "text": [
            "Sensibilidade 100.0 %\n",
            "Especificidade 100.0 %\n"
          ],
          "name": "stdout"
        }
      ]
    },
    {
      "cell_type": "markdown",
      "metadata": {
        "id": "rdt36gPUOPHN"
      },
      "source": [
        "Fazendo análise dos dados acima conseguimos identificar que os resultados da base normalizada em oposição aos resultados da não normalizada são bastante parecidos, mostrando que a normalização não foi de grande ajuda para o treinamento da rede."
      ]
    },
    {
      "cell_type": "markdown",
      "metadata": {
        "id": "yU7-VC4rOufT"
      },
      "source": [
        "### Classificando as instâncias da base dataset_sbd\r\n",
        "\r\n",
        "Nesta última análise, iremos classificar as instâncias da base separa no início do relatório, base essa que contém a instância ```suspect Blood Donor```, ao observar os valores preditos abaixo conseguimos identificar que a rede classificou relativamente bem as instâncias, msotrando que ela conseguiu generalizar bem outros dados.\r\n",
        "\r\n"
      ]
    },
    {
      "cell_type": "code",
      "metadata": {
        "colab": {
          "base_uri": "https://localhost:8080/"
        },
        "id": "mZp_WhULPoiW",
        "outputId": "410fa079-3aac-4ebf-e1e8-3b0345e45805"
      },
      "source": [
        "preditcs_sbd = dataset_sbd.iloc[:, 1:14]\r\n",
        "preditcs_sbd = model.predict(preditcs_sbd)\r\n",
        "preditcs_sbd = (preditcs_sbd > 0.5)\r\n",
        "preditcs_sbd"
      ],
      "execution_count": 342,
      "outputs": [
        {
          "output_type": "execute_result",
          "data": {
            "text/plain": [
              "array([[False],\n",
              "       [ True],\n",
              "       [ True],\n",
              "       [ True],\n",
              "       [False],\n",
              "       [False],\n",
              "       [ True]])"
            ]
          },
          "metadata": {
            "tags": []
          },
          "execution_count": 342
        }
      ]
    },
    {
      "cell_type": "markdown",
      "metadata": {
        "id": "l2dtDc5hUlzj"
      },
      "source": [
        "## Random forest\r\n",
        "\r\n",
        "Algoritmo que cri várias árvores de descisão de maneira aleatória, onde cada árvore será utilizada na escolha do resultado final."
      ]
    },
    {
      "cell_type": "markdown",
      "metadata": {
        "id": "QoBhrfXHYwgH"
      },
      "source": [
        "### Subdividindo base de dados\r\n",
        "\r\n",
        "Vamos treinar o algoritmo, já que posteriormente já foram criados os valores de previsões e classe, vamos usar ele aqui também. Usando 80% para treinamenteo e 20% para teste."
      ]
    },
    {
      "cell_type": "code",
      "metadata": {
        "id": "ekIoUEEFVWyw"
      },
      "source": [
        "train_predict_RF, test_predict_RF, train_class_RF, test_class_RF = train_test_split(dataset_predict,\r\n",
        "                                                                                    dataset_class,\r\n",
        "                                                                                    random_state = 0, \r\n",
        "                                                                                    test_size = 0.20)"
      ],
      "execution_count": 431,
      "outputs": []
    },
    {
      "cell_type": "markdown",
      "metadata": {
        "id": "mlGfrjtiZQcY"
      },
      "source": [
        "### Classificador\r\n",
        "\r\n",
        "Nesta parte criamos o classificador através da biblioteca ```RandomForestClassifier```."
      ]
    },
    {
      "cell_type": "code",
      "metadata": {
        "id": "3wXhcIEBWRkV"
      },
      "source": [
        "classifier = RandomForestClassifier(n_estimators = 30,\r\n",
        "                                    criterion = 'entropy', random_state = 0)"
      ],
      "execution_count": 432,
      "outputs": []
    },
    {
      "cell_type": "markdown",
      "metadata": {
        "id": "v5xMZ2skZlV1"
      },
      "source": [
        "### Treinando classificador\r\n",
        "\r\n",
        "\r\n",
        "A partir dos valores de predição e classe que conseguimos no passo de subdivisão da base, vamos treinar o classificador. "
      ]
    },
    {
      "cell_type": "code",
      "metadata": {
        "colab": {
          "base_uri": "https://localhost:8080/"
        },
        "id": "nt5yPozKWVv4",
        "outputId": "d0b99b61-4216-45ff-eb49-7e0baeeee6d4"
      },
      "source": [
        "classifier.fit(train_predict_RF, train_class_RF)"
      ],
      "execution_count": 433,
      "outputs": [
        {
          "output_type": "execute_result",
          "data": {
            "text/plain": [
              "RandomForestClassifier(bootstrap=True, ccp_alpha=0.0, class_weight=None,\n",
              "                       criterion='entropy', max_depth=None, max_features='auto',\n",
              "                       max_leaf_nodes=None, max_samples=None,\n",
              "                       min_impurity_decrease=0.0, min_impurity_split=None,\n",
              "                       min_samples_leaf=1, min_samples_split=2,\n",
              "                       min_weight_fraction_leaf=0.0, n_estimators=30,\n",
              "                       n_jobs=None, oob_score=False, random_state=0, verbose=0,\n",
              "                       warm_start=False)"
            ]
          },
          "metadata": {
            "tags": []
          },
          "execution_count": 433
        }
      ]
    },
    {
      "cell_type": "markdown",
      "metadata": {
        "id": "RrEK-t6Vajv8"
      },
      "source": [
        "### Resultados do algoritmo\r\n",
        "\r\n",
        "Primeiro vamos verificar a predição da rede de acordo com subdivisão feita e logo após iremos verificar a acurácia do algoritmo."
      ]
    },
    {
      "cell_type": "code",
      "metadata": {
        "colab": {
          "base_uri": "https://localhost:8080/"
        },
        "id": "_ElsA2uTWgwr",
        "outputId": "dd408957-ed05-43e0-fc4d-09ac4931c11c"
      },
      "source": [
        "preditcs_RF = classifier.predict(test_predict_RF)\r\n",
        "preditcs_RF = (preditcs_RF > 0.5)\r\n",
        "preditcs_RF"
      ],
      "execution_count": 443,
      "outputs": [
        {
          "output_type": "execute_result",
          "data": {
            "text/plain": [
              "array([ True,  True,  True, False, False,  True, False,  True, False,\n",
              "        True,  True, False, False, False, False, False,  True,  True,\n",
              "       False,  True,  True, False, False])"
            ]
          },
          "metadata": {
            "tags": []
          },
          "execution_count": 443
        }
      ]
    },
    {
      "cell_type": "code",
      "metadata": {
        "colab": {
          "base_uri": "https://localhost:8080/"
        },
        "id": "kXiDuKcrW2Nv",
        "outputId": "91775c32-1a50-45f1-e1e5-bcd6ffcdca01"
      },
      "source": [
        "result = round(accuracy_score(test_class_RF, preditcs_RF), 2)\r\n",
        "print('Acurácia:', result)"
      ],
      "execution_count": 446,
      "outputs": [
        {
          "output_type": "stream",
          "text": [
            "Acurácia: 1.0\n"
          ],
          "name": "stdout"
        }
      ]
    },
    {
      "cell_type": "markdown",
      "metadata": {
        "id": "1cKxN8jia2l0"
      },
      "source": [
        "Obtemos uma acurácia de 100%, isso quer dizer que nosso modelo está com uma ótima acurácia, ótima até demais."
      ]
    },
    {
      "cell_type": "markdown",
      "metadata": {
        "id": "YMPUjalsbFtT"
      },
      "source": [
        "### Plotando resultados \r\n",
        "\r\n",
        "Iremos agora plotar os resultados da base não normalizada. De acordo com o gráfico abaixo, o algoritmo mostrou ter bons resultados."
      ]
    },
    {
      "cell_type": "code",
      "metadata": {
        "colab": {
          "base_uri": "https://localhost:8080/",
          "height": 289
        },
        "id": "xa2rQEYWXPih",
        "outputId": "43fb25fa-c3e1-4ede-c424-6009974b2c56"
      },
      "source": [
        "ax = confusion_matrix(preditcs_RF, test_class_RF)\r\n",
        "df = pd.DataFrame(ax, range(2), range(2))\r\n",
        "sn.heatmap(df, annot=True, annot_kws={\"size\": 15}, cmap='Blues')"
      ],
      "execution_count": 447,
      "outputs": [
        {
          "output_type": "execute_result",
          "data": {
            "text/plain": [
              "<matplotlib.axes._subplots.AxesSubplot at 0x7f99bb6e3080>"
            ]
          },
          "metadata": {
            "tags": []
          },
          "execution_count": 447
        },
        {
          "output_type": "display_data",
          "data": {
            "image/png": "[encoded data removed]",
            "text/plain": [
              "<Figure size 432x288 with 2 Axes>"
            ]
          },
          "metadata": {
            "tags": []
          }
        }
      ]
    },
    {
      "cell_type": "code",
      "metadata": {
        "colab": {
          "base_uri": "https://localhost:8080/"
        },
        "id": "Hi6bzjxcejR_",
        "outputId": "a47ef10d-41e0-40f0-f21f-d26f9b4323a7"
      },
      "source": [
        "sens = (11 / (0 + 11))\r\n",
        "print('Sensibilidade', sens * 100, '%')\r\n",
        "espe = (12 / (12 + 0))\r\n",
        "print('Especificidade', espe * 100, '%')"
      ],
      "execution_count": 449,
      "outputs": [
        {
          "output_type": "stream",
          "text": [
            "Sensibilidade 100.0 %\n",
            "Especificidade 100.0 %\n"
          ],
          "name": "stdout"
        }
      ]
    },
    {
      "cell_type": "markdown",
      "metadata": {
        "id": "DzAtE3xrc66O"
      },
      "source": [
        "### Resultados com a base normalizada\r\n",
        "\r\n",
        "Assim como RNA foi usado os mesmos passos para o treinamento e os resultados não tiveram diferença perceptível. Tendo Acurácia, sensibilidade e especificidade de 100% assim como a não normalizada."
      ]
    },
    {
      "cell_type": "markdown",
      "metadata": {
        "id": "VBjXMFFKbiQ9"
      },
      "source": [
        "### Classificando as instâncias da base dataset_sbd\r\n",
        "\r\n",
        "\r\n",
        "Assim como no algoritmo vamos analisar o resultado da rede com a base que possuem apenas as instâncias ```suspect Blood Donor```."
      ]
    },
    {
      "cell_type": "code",
      "metadata": {
        "colab": {
          "base_uri": "https://localhost:8080/",
          "height": 266
        },
        "id": "UB4vCPMqXoCQ",
        "outputId": "317e8e39-4bdd-48ea-de86-54ea06ee5414"
      },
      "source": [
        "dataset_sbd"
      ],
      "execution_count": 442,
      "outputs": [
        {
          "output_type": "execute_result",
          "data": {
            "text/html": [
              "<div>\n",
              "<style scoped>\n",
              "    .dataframe tbody tr th:only-of-type {\n",
              "        vertical-align: middle;\n",
              "    }\n",
              "\n",
              "    .dataframe tbody tr th {\n",
              "        vertical-align: top;\n",
              "    }\n",
              "\n",
              "    .dataframe thead th {\n",
              "        text-align: right;\n",
              "    }\n",
              "</style>\n",
              "<table border=\"1\" class=\"dataframe\">\n",
              "  <thead>\n",
              "    <tr style=\"text-align: right;\">\n",
              "      <th></th>\n",
              "      <th>Category</th>\n",
              "      <th>Age</th>\n",
              "      <th>Sex</th>\n",
              "      <th>ALB</th>\n",
              "      <th>ALP</th>\n",
              "      <th>ALT</th>\n",
              "      <th>AST</th>\n",
              "      <th>BIL</th>\n",
              "      <th>CHE</th>\n",
              "      <th>CHOL</th>\n",
              "      <th>CREA</th>\n",
              "      <th>GGT</th>\n",
              "      <th>PROT</th>\n",
              "    </tr>\n",
              "  </thead>\n",
              "  <tbody>\n",
              "    <tr>\n",
              "      <th>533</th>\n",
              "      <td>0s=suspect Blood Donor</td>\n",
              "      <td>47</td>\n",
              "      <td>1</td>\n",
              "      <td>22.5</td>\n",
              "      <td>124.0</td>\n",
              "      <td>79.5</td>\n",
              "      <td>46.7</td>\n",
              "      <td>2.3</td>\n",
              "      <td>6.83</td>\n",
              "      <td>4.30</td>\n",
              "      <td>170.0</td>\n",
              "      <td>345.6</td>\n",
              "      <td>58.6</td>\n",
              "    </tr>\n",
              "    <tr>\n",
              "      <th>534</th>\n",
              "      <td>0s=suspect Blood Donor</td>\n",
              "      <td>48</td>\n",
              "      <td>1</td>\n",
              "      <td>24.9</td>\n",
              "      <td>116.9</td>\n",
              "      <td>49.2</td>\n",
              "      <td>24.3</td>\n",
              "      <td>4.9</td>\n",
              "      <td>3.44</td>\n",
              "      <td>5.25</td>\n",
              "      <td>29.0</td>\n",
              "      <td>83.0</td>\n",
              "      <td>47.8</td>\n",
              "    </tr>\n",
              "    <tr>\n",
              "      <th>535</th>\n",
              "      <td>0s=suspect Blood Donor</td>\n",
              "      <td>49</td>\n",
              "      <td>1</td>\n",
              "      <td>21.6</td>\n",
              "      <td>42.2</td>\n",
              "      <td>9.5</td>\n",
              "      <td>10.6</td>\n",
              "      <td>2.4</td>\n",
              "      <td>3.75</td>\n",
              "      <td>3.01</td>\n",
              "      <td>64.0</td>\n",
              "      <td>38.9</td>\n",
              "      <td>44.8</td>\n",
              "    </tr>\n",
              "    <tr>\n",
              "      <th>536</th>\n",
              "      <td>0s=suspect Blood Donor</td>\n",
              "      <td>55</td>\n",
              "      <td>1</td>\n",
              "      <td>47.3</td>\n",
              "      <td>106.0</td>\n",
              "      <td>208.8</td>\n",
              "      <td>130.6</td>\n",
              "      <td>0.8</td>\n",
              "      <td>14.80</td>\n",
              "      <td>8.08</td>\n",
              "      <td>76.0</td>\n",
              "      <td>71.6</td>\n",
              "      <td>78.3</td>\n",
              "    </tr>\n",
              "    <tr>\n",
              "      <th>537</th>\n",
              "      <td>0s=suspect Blood Donor</td>\n",
              "      <td>71</td>\n",
              "      <td>1</td>\n",
              "      <td>14.9</td>\n",
              "      <td>69.8</td>\n",
              "      <td>19.7</td>\n",
              "      <td>95.2</td>\n",
              "      <td>9.8</td>\n",
              "      <td>13.30</td>\n",
              "      <td>2.61</td>\n",
              "      <td>9.0</td>\n",
              "      <td>7.6</td>\n",
              "      <td>47.0</td>\n",
              "    </tr>\n",
              "    <tr>\n",
              "      <th>538</th>\n",
              "      <td>0s=suspect Blood Donor</td>\n",
              "      <td>74</td>\n",
              "      <td>1</td>\n",
              "      <td>20.3</td>\n",
              "      <td>84.0</td>\n",
              "      <td>22.8</td>\n",
              "      <td>43.0</td>\n",
              "      <td>5.7</td>\n",
              "      <td>4.91</td>\n",
              "      <td>3.19</td>\n",
              "      <td>52.0</td>\n",
              "      <td>218.3</td>\n",
              "      <td>47.8</td>\n",
              "    </tr>\n",
              "    <tr>\n",
              "      <th>539</th>\n",
              "      <td>0s=suspect Blood Donor</td>\n",
              "      <td>59</td>\n",
              "      <td>0</td>\n",
              "      <td>19.3</td>\n",
              "      <td>208.2</td>\n",
              "      <td>325.3</td>\n",
              "      <td>146.6</td>\n",
              "      <td>6.9</td>\n",
              "      <td>5.33</td>\n",
              "      <td>4.72</td>\n",
              "      <td>32.0</td>\n",
              "      <td>295.6</td>\n",
              "      <td>53.1</td>\n",
              "    </tr>\n",
              "  </tbody>\n",
              "</table>\n",
              "</div>"
            ],
            "text/plain": [
              "                   Category  Age  Sex   ALB  ...  CHOL   CREA    GGT  PROT\n",
              "533  0s=suspect Blood Donor   47    1  22.5  ...  4.30  170.0  345.6  58.6\n",
              "534  0s=suspect Blood Donor   48    1  24.9  ...  5.25   29.0   83.0  47.8\n",
              "535  0s=suspect Blood Donor   49    1  21.6  ...  3.01   64.0   38.9  44.8\n",
              "536  0s=suspect Blood Donor   55    1  47.3  ...  8.08   76.0   71.6  78.3\n",
              "537  0s=suspect Blood Donor   71    1  14.9  ...  2.61    9.0    7.6  47.0\n",
              "538  0s=suspect Blood Donor   74    1  20.3  ...  3.19   52.0  218.3  47.8\n",
              "539  0s=suspect Blood Donor   59    0  19.3  ...  4.72   32.0  295.6  53.1\n",
              "\n",
              "[7 rows x 13 columns]"
            ]
          },
          "metadata": {
            "tags": []
          },
          "execution_count": 442
        }
      ]
    },
    {
      "cell_type": "code",
      "metadata": {
        "colab": {
          "base_uri": "https://localhost:8080/"
        },
        "id": "XWZXwZiWXwlR",
        "outputId": "deeee6a6-f3fe-47b4-f07a-14d510f35a69"
      },
      "source": [
        "preditcs_sbd = dataset_sbd.iloc[:, 1:14]\r\n",
        "preditcs_sbd = classifier.predict(preditcs_sbd)\r\n",
        "preditcs_sbd = (preditcs_sbd > 0.5)\r\n",
        "preditcs_sbd"
      ],
      "execution_count": 445,
      "outputs": [
        {
          "output_type": "execute_result",
          "data": {
            "text/plain": [
              "array([False,  True, False, False, False, False, False])"
            ]
          },
          "metadata": {
            "tags": []
          },
          "execution_count": 445
        }
      ]
    },
    {
      "cell_type": "markdown",
      "metadata": {
        "id": "qctjUrwScCdX"
      },
      "source": [
        "Após a comparação com o algoritmo anterior, conseguimos perceber uma diferença de resultado. Mostrando que classificador não foi predeterminado para as instâncias ```suspect Blood Donor```."
      ]
    }
  ]
}